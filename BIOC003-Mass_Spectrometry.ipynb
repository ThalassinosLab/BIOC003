{
 "cells": [
  {
   "cell_type": "markdown",
   "metadata": {},
   "source": [
    "# BIOC003 - Mass Spectrometry\n",
    "\n",
    "*Prof. Kostas Thalassinos*\n",
    "\n",
    "In this notebook we will use Python to revisit some of the concepts we covered in the tandem mass spectrometry lecture.\n",
    "\n",
    "We will use Python to calculate the sequence and *m/z* of *a,b,y* fragment ions for a given peptide sequence.\n",
    "\n",
    "The Python concepts covered will include:\n",
    "- dictionaries (used to store the residue masses)\n",
    "- for loops\n"
   ]
  },
  {
   "cell_type": "markdown",
   "metadata": {},
   "source": [
    "## Simulating peptide fragmentation\n",
    "\n",
    "For this practical let us assume the sequence of our peptide is:\n",
    "\n",
    "    AITGVMEK\n",
    "\n",
    "We will store this sequence as a Python variable named *peptide*:"
   ]
  },
  {
   "cell_type": "code",
   "execution_count": null,
   "metadata": {},
   "outputs": [],
   "source": [
    "peptide = \"AITGVMEK\""
   ]
  },
  {
   "cell_type": "markdown",
   "metadata": {},
   "source": [
    "Before we predict the different fragments let us calculate the mass of the intact peptide.\n",
    "\n",
    "To do so we need to know the residue mass of each amino acid. A very useful way of storing many different bits of information for each amino acid is using a Python dictionary. Python dictionaries are a data structure containing a collection of key-value pairs. \n",
    "\n",
    "Go ahead and run the following cell in order to load the dictionary in the variable *amino_acid_properties*\n"
   ]
  },
  {
   "cell_type": "code",
   "execution_count": null,
   "metadata": {},
   "outputs": [],
   "source": [
    "amino_acid_properties = {\n",
    "\"A\": {\"name\": \"Alanine\",\t\"single_letter\": \"A\",\t\"three_letter\": \"Ala\",\t\"elemental\": \"C3H5NO\",\t\"mass_mono\": 71.03711,\t\"mass_avg\": 71.0779},\n",
    "\"C\": {\"name\": \"Cysteine\",\t\"single_letter\": \"C\",\t\"three_letter\": \"Cys\",\t\"elemental\": \"C3H5NOS\",\t\"mass_mono\": 103.00919,\t\"mass_avg\": 103.1429},\n",
    "\"D\": {\"name\": \"Aspartic acid\",\t\"single_letter\": \"D\",\t\"three_letter\": \"Asp\",\t\"elemental\": \"C4H5NO3\",\t\"mass_mono\": 115.02694,\t\"mass_avg\": 115.0874},\n",
    "\"E\": {\"name\": \"Glutamic acid\",\t\"single_letter\": \"G\",\t\"three_letter\": \"Glu\",\t\"elemental\": \"C5H7NO3\",\t\"mass_mono\": 129.04259,\t\"mass_avg\": 129.1140},\n",
    "\"F\": {\"name\": \"Phenylalanine\",\t\"single_letter\": \"F\",\t\"three_letter\": \"Phe\",\t\"elemental\": \"C9H9NO\",\t\"mass_mono\": 147.06841,\t\"mass_avg\": 147.1739},\n",
    "\"G\": {\"name\": \"Glycine\",\t\"single_letter\": \"G\",\t\"three_letter\": \"Gly\",\t\"elemental\": \"C6H7N3O\",\t\"mass_mono\": 57.02146,\t\"mass_avg\": 57.0513},\n",
    "\"H\": {\"name\": \"Histidine\",\t\"single_letter\": \"H\",\t\"three_letter\": \"His\",\t\"elemental\": \"C3H5NO\",\t\"mass_mono\": 137.05891,\t\"mass_avg\": 137.1393},\n",
    "\"I\": {\"name\": \"Isoleucine\",\t\"single_letter\": \"I\",\t\"three_letter\": \"Ile\",\t\"elemental\": \"C6H11NO\",\t\"mass_mono\": 113.08406,\t\"mass_avg\": 113.1576},\n",
    "\"K\": {\"name\": \"Lysine\",\t\"single_letter\": \"K\",\t\"three_letter\": \"Lys\",\t\"elemental\": \"C6H12N2O\",\t\"mass_mono\": 128.09496,\t\"mass_avg\": 128.1723},\n",
    "\"L\": {\"name\": \"Leucine\",\t\"single_letter\": \"L\",\t\"three_letter\": \"Leu\",\t\"elemental\": \"C6H11NO\",\t\"mass_mono\": 113.08406,\t\"mass_avg\": 113.1576},\n",
    "\"M\": {\"name\": \"Methionine\",\t\"single_letter\": \"M\",\t\"three_letter\": \"Met\",\t\"elemental\": \"C4H6N2O2\",\t\"mass_mono\": 131.04049,\t\"mass_avg\": 131.1961},\n",
    "\"N\": {\"name\": \"Asparagine\",\t\"single_letter\": \"N\",\t\"three_letter\": \"Asn\",\t\"elemental\": \"C3H5NO\",\t\"mass_mono\": 114.04293,\t\"mass_avg\": 114.1026},\n",
    "\"P\": {\"name\": \"Proline\",\t\"single_letter\": \"P\",\t\"three_letter\": \"Pro\",\t\"elemental\": \"C3H5NO\",\t\"mass_mono\": 97.05276,\t\"mass_avg\": 97.1152},\n",
    "\"Q\": {\"name\": \"Glutamine\",\t\"single_letter\": \"Q\",\t\"three_letter\": \"Gln\",\t\"elemental\": \"C5H8N2O2\",\t\"mass_mono\": 128.05858,\t\"mass_avg\": 128.1307},\n",
    "\"R\": {\"name\": \"Arginine\",\t\"single_letter\": \"R\",\t\"three_letter\": \"Arg\",\t\"elemental\": \"C6H12N4O\",\t\"mass_mono\": 156.10111,\t\"mass_avg\": 156.1857},\n",
    "\"S\": {\"name\": \"Serine\",\t\"single_letter\": \"S\",\t\"three_letter\": \"Ser\",\t\"elemental\": \"C3H5NO2\",\t\"mass_mono\": 87.03203,\t\"mass_avg\": 87.0773},\n",
    "\"V\": {\"name\": \"Valine\",\t\"single_letter\": \"V\",\t\"three_letter\": \"Val\",\t\"elemental\": \"C5H9NO\",\t\"mass_mono\": 99.06841,\t\"mass_avg\": 99.1311},\n",
    "\"W\": {\"name\": \"Tryptophan\",\t\"single_letter\": \"W\",\t\"three_letter\": \"Trp\",\t\"elemental\": \"C11H10N2O\",\t\"mass_mono\": 186.07931,\t\"mass_avg\": 186.2099},\n",
    "\"Y\": {\"name\": \"Tyrosine\",\t\"single_letter\": \"Y\",\t\"three_letter\": \"Tyr\",\t\"elemental\": \"C9H9NO2\",\t\"mass_mono\": 163.06333,\t\"mass_avg\": 163.06333},\n",
    "\"T\": {\"name\": \"Threonine\",\t\"single_letter\": \"T\",\t\"three_letter\": \"Thr\",\t\"elemental\": \"C4H7O2N\",\t\"mass_mono\": 101.04768,\t\"mass_avg\": 101.1051}\n",
    "}"
   ]
  },
  {
   "cell_type": "markdown",
   "metadata": {},
   "source": [
    "In this dictionary the key is the one letter amino acid code and for each such key there are many values. For example for each amino acid we can access the following information\n",
    "- full name\n",
    "- single letter code\n",
    "- three letter description\n",
    "- elemental composition\n",
    "- monoisotopic mass\n",
    "- average mass\n"
   ]
  },
  {
   "cell_type": "markdown",
   "metadata": {},
   "source": [
    "To see what specific values are stored for the amino acid Glycine we need to access the information stored in the dictionary using the *key* corresponding to Glycine which in our case is 'G'. So we need to access the 'G' entry in our dictionary named *amino_acid_properties* which we do by *amino_acid_properties['G']*"
   ]
  },
  {
   "cell_type": "code",
   "execution_count": null,
   "metadata": {},
   "outputs": [],
   "source": [
    "print(amino_acid_properties['G'])"
   ]
  },
  {
   "cell_type": "markdown",
   "metadata": {},
   "source": [
    "From this you can see that what is returned is another dictionary which now has 6 key-value pairs.\n",
    "The 6 keys are\n",
    "- name : the name of the amino acid\n",
    "- single_letter: the single letter description of the amino acid\n",
    "- three_letter: the three letter code \n",
    "- elemental: the elemental formula\n",
    "- mass_mono: the monoisotopic mass\n",
    "- mass_avg: the average mass\n",
    "\n",
    "You can see that the three letter code is Gly the monoisotopic mass is 57.02146 etc. \n",
    "\n",
    "\n",
    "Now to access only one of the parameters for each amino acid e.g. its monoisotopic mass you can do so by typing *amino_acid_properties['G']['mass_mono']*. To access the three letter code you would type *amino_acid_properties['G']['three_letter']*.\n",
    "You can now store this information in a variable to use like so:\n",
    "\n",
    "        glycine_monoisotopic_mass = amino_acid_properties['G']['mass_mono']\n",
    "\n",
    "\n",
    "As you can see the above dictionary makes it easy to store, and access, many different properties for each amino acid."
   ]
  },
  {
   "cell_type": "code",
   "execution_count": null,
   "metadata": {},
   "outputs": [],
   "source": [
    "glycine_monoisotopic_mass = amino_acid_properties['G']['mass_mono']\n",
    "print(glycine_monoisotopic_mass)"
   ]
  },
  {
   "cell_type": "markdown",
   "metadata": {},
   "source": [
    "**TASK:** Using what you have just learned can you assign the monoisotopic mass of Serine to a variable and print it?"
   ]
  },
  {
   "cell_type": "code",
   "execution_count": null,
   "metadata": {},
   "outputs": [],
   "source": []
  },
  {
   "cell_type": "markdown",
   "metadata": {},
   "source": [
    "Great! now we have all the information regarding each amino acid and we know how to access them lets move on and calculate the monoisotopic mass of our peptide. Remember the monoisotopic masses stored in our dictionary are for the *residue* mass i.e. the mass of the peptide minus H, minus OH groups\n",
    "\n",
    "$ResidueMass = AminoAcidMass - H_2O$\n",
    "\n",
    "In order to calculate the mass of the intact peptide we therefore need to add the mass for each residue and then add the mass of H and mass of OH. \n",
    "\n",
    "$PeptideMass = \\sum Mass\\_of\\_residues + H_2O$\n",
    "\n",
    "Use the folloging values for the mass of H and O\n",
    "\n",
    "$H = 1.0078$\n",
    "\n",
    "$O = 15.9949$\n",
    "\n",
    "OK to do so we will assign the mass of H and OH to new variables called *mass_H* and *mass_O*. We will then go through each amino acid in our peptide's sequence and use it as input to our dictionary so that we can access the monoisotopic mass for each of these amino acids. Python has a very easy way of *looping* through strings using the following \n",
    "\n",
    "        for amino_acid in peptide:\n",
    "        \n",
    "so that at each interation of this for loop the amino_acid varable will hold the value of one amino acid. To see this in practice run the code in the cell below\n",
    "            \n",
    "\n"
   ]
  },
  {
   "cell_type": "code",
   "execution_count": null,
   "metadata": {},
   "outputs": [],
   "source": [
    "for amino_acid in peptide:\n",
    "    print(amino_acid)"
   ]
  },
  {
   "cell_type": "markdown",
   "metadata": {},
   "source": [
    "As we saw above, to access the monoisotopic mass of glycine we typed\n",
    "\n",
    "        amino_acid_properties['G']['mass_mono']\n",
    "\n",
    "so now we can use the amino acid letter at each iteration of the loop as input in our dictionary to access its monoisotopic mass \n",
    "        \n",
    "        amino_acid_properties[amino_acid]['mass_mono']\n",
    "        \n",
    "Finally, we assign a new variable called *peptide_mass* to hold the total value of the peptide. \n",
    "\n",
    "We bring it all together in the code below, have a look and make sure you understand the logic here"
   ]
  },
  {
   "cell_type": "code",
   "execution_count": null,
   "metadata": {},
   "outputs": [],
   "source": [
    "mass_H = 1.0078\n",
    "mass_O = 15.9949\n",
    "\n",
    "peptide_mass = 0 #variable to hold the mass of the peptide\n",
    "\n",
    "for amino_acid in peptide: # go though each amino acid in the peptide sequence starting from the first (N-terminal part)\n",
    "    peptide_mass += amino_acid_properties[amino_acid]['mass_mono'] #keep adding the mass for each amino acid\n",
    "\n",
    "peptide_mass =  peptide_mass + (2*mass_H) + mass_O #add the mass of H2O\n",
    "\n",
    "print(peptide_mass)"
   ]
  },
  {
   "cell_type": "markdown",
   "metadata": {},
   "source": [
    "**TASK** In the code above we calculated the monoisotopic mass of the peptide. What changes would you make to the above code to calculate the average mass of the peptide?"
   ]
  },
  {
   "cell_type": "markdown",
   "metadata": {},
   "source": [
    "## Calculating fragment ion masses"
   ]
  },
  {
   "cell_type": "markdown",
   "metadata": {},
   "source": [
    "OK let's now move onto calculating the mass of *a,b,y* fragment ions. Remember that *a* and *b* ions retain the N-terminal part of the peptide while *y* ions retain the C-terminal part of the peptide. In the code below we will simulate fragemtation along the peptide backbone. There are many different ways of doing the following in Python but here we will cover one which makes use of Pythons substrings. \n",
    "\n",
    "For our peptide AITGVMEK the b ion series will be\n",
    "\n",
    "        - b1: A\n",
    "        - b2: AI\n",
    "        - b3: AIT\n",
    "        - b4: AITG\n",
    "\n",
    "and so on. \n",
    "\n",
    "So the b1 ion will be the first amino acid the b2 ion the first and second amino acid and so on, or you could say the b1 ion is between positions 1:1 of the sequence b2 between positions 1:2 and so on. In Python you can access a substring of a string using this notation\n",
    "\n",
    "        substring = string[start:end]\n",
    "        \n",
    "one thing to note is that the first position is actually 0 and not 1. Also if an end index is not included it will be assumed to be the end of the string. For example to get the substring from the 4th amino acid to the end for our peptide you need to execture the following\n",
    "\n",
    "         peptide[3:]\n",
    "         \n",
    "or the get from the beggining of the peptide to the 3rd amino acid we can use\n",
    "\n",
    "        peptide[:3]\n"
   ]
  },
  {
   "cell_type": "code",
   "execution_count": null,
   "metadata": {},
   "outputs": [],
   "source": [
    "peptide[:3]"
   ]
  },
  {
   "cell_type": "markdown",
   "metadata": {},
   "source": [
    "**TASK** Try extracting different parts of the peptide here. A good description of how to use substrings can be found here\n",
    "https://www.freecodecamp.org/news/how-to-substring-a-string-in-python/"
   ]
  },
  {
   "cell_type": "markdown",
   "metadata": {},
   "source": [
    "OK, to extract a substring as we saw in the above example we need to have an index. We previously used the below code to loop through the amino acids in the sequence\n",
    "\n",
    "        for amino_acid in peptide:\n",
    "            peptide_mass += amino_acid_properties[amino_acid]['mass_mono']\n",
    "            \n",
    "There is a way of also getting a counter (which we will use as an index) while looping through the sequence and for this we will use *enumerate()*. The above example can be written as\n",
    "\n",
    "        for counter, amino_acid in enumerate(peptide):\n",
    "             print(counter, amino_acid)\n",
    "             \n",
    "Run this code in the below cell to see the output\n"
   ]
  },
  {
   "cell_type": "code",
   "execution_count": null,
   "metadata": {},
   "outputs": [],
   "source": [
    "for counter, amino_acid in enumerate(peptide):\n",
    "     print(counter, amino_acid)"
   ]
  },
  {
   "cell_type": "markdown",
   "metadata": {},
   "source": [
    "We still get each amino acid stored in the variable *amino_acid* but we also get the value of the counter stored in the varaible *counter*\n",
    "\n",
    "For more on enumerate see https://realpython.com/python-enumerate/\n",
    "\n"
   ]
  },
  {
   "cell_type": "markdown",
   "metadata": {},
   "source": [
    "We can now use the following code to list the name and sequence of all the *b* fragment ions"
   ]
  },
  {
   "cell_type": "code",
   "execution_count": null,
   "metadata": {},
   "outputs": [],
   "source": [
    "for counter, amino_acid in enumerate(peptide):\n",
    "    ion_number = counter\n",
    "    ion_sequence = peptide[:counter]\n",
    "    \n",
    "    print('b', ion_number, ion_sequence)"
   ]
  },
  {
   "cell_type": "markdown",
   "metadata": {},
   "source": [
    "We can tidy up the above code to not dispay the first line which is empty and also pretify the name of the ion"
   ]
  },
  {
   "cell_type": "code",
   "execution_count": null,
   "metadata": {},
   "outputs": [],
   "source": [
    "for counter, amino_acid in enumerate(peptide):\n",
    "    if(counter > 0): # only print ions if the counter is larger than 0\n",
    "        ion_number = 'b' + str(counter) #we need to convert the counter which is an integer to string in order to concatenate with with the letter b\n",
    "        ion_sequence = peptide[:counter]\n",
    "    \n",
    "        print(ion_number, ion_sequence)"
   ]
  },
  {
   "cell_type": "markdown",
   "metadata": {},
   "source": [
    "What remains now is to calculate the mass of each fragment ion. Remember from the lectures that the mass of *b* ions is:\n",
    "\n",
    "$\\sum Mass\\_of\\_residues\\_retained + N\\_terminal$\n",
    "    \n",
    "where in our case N_term is H\n",
    "\n",
    "We can create a function that will take as input the fragment sequence and return the mass (more precisely the +1 *m/z* value for this fragment)."
   ]
  },
  {
   "cell_type": "code",
   "execution_count": null,
   "metadata": {},
   "outputs": [],
   "source": [
    "def calculate_b_ion_mass(fragment_sequence):\n",
    "    \n",
    "    mass_N_term = 1.0078\n",
    "    fragment_mass = 0 \n",
    "\n",
    "    for frag in fragment_sequence:\n",
    "        fragment_mass += amino_acid_properties[frag]['mass_mono']\n",
    "\n",
    "    fragment_mass =  fragment_mass + mass_N_term\n",
    "    \n",
    "    return fragment_mass"
   ]
  },
  {
   "cell_type": "markdown",
   "metadata": {},
   "source": [
    "Now that we have that function we can combine evertyhing together to get the *b* fragments with their names and *m/z* ratios"
   ]
  },
  {
   "cell_type": "code",
   "execution_count": null,
   "metadata": {},
   "outputs": [],
   "source": [
    "temp_mass = 0\n",
    "\n",
    "for counter, amino_acid in enumerate(peptide):\n",
    "    if(counter > 0): # only print ions if the counter is larger than 0\n",
    "        \n",
    "        \n",
    "        ion_number = 'b' + str(counter) #we need to convert the counter which is an integer to string in order to concatenate with with the letter b\n",
    "        ion_sequence = peptide[:counter]\n",
    "        ion_mass = calculate_b_ion_mass(ion_sequence)\n",
    "        \n",
    "        print(ion_number, ion_sequence, ion_mass)\n",
    "    \n",
    "        "
   ]
  },
  {
   "cell_type": "markdown",
   "metadata": {},
   "source": [
    "**TASK** Given all that you know now can you calculate the sequence and the mass of the *a* and *y* ions?"
   ]
  },
  {
   "cell_type": "markdown",
   "metadata": {},
   "source": [
    "I hope you enjoyed this practical. As mentioned, there are many different ways of doing the same thing so go ahead and experiment. Have fun!"
   ]
  },
  {
   "cell_type": "code",
   "execution_count": null,
   "metadata": {},
   "outputs": [],
   "source": []
  }
 ],
 "metadata": {
  "kernelspec": {
   "display_name": "Python 3",
   "language": "python",
   "name": "python3"
  },
  "language_info": {
   "codemirror_mode": {
    "name": "ipython",
    "version": 3
   },
   "file_extension": ".py",
   "mimetype": "text/x-python",
   "name": "python",
   "nbconvert_exporter": "python",
   "pygments_lexer": "ipython3",
   "version": "3.7.7"
  }
 },
 "nbformat": 4,
 "nbformat_minor": 4
}
